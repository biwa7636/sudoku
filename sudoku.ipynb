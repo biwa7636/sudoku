{
 "cells": [
  {
   "cell_type": "markdown",
   "metadata": {},
   "source": [
    "![caption](images/sudoku.JPG)"
   ]
  },
  {
   "cell_type": "markdown",
   "metadata": {},
   "source": [
    "# 1. Initialization"
   ]
  },
  {
   "cell_type": "code",
   "execution_count": 2,
   "metadata": {
    "collapsed": false
   },
   "outputs": [],
   "source": [
    "# initialize an empty matrix\n",
    "from collections import defaultdict\n",
    "from collections import Counter\n",
    "num_row = 9\n",
    "num_col = 9\n",
    "num_grp = 9\n",
    "matrix = []\n",
    "group_lookup = defaultdict(set)\n",
    "# cell[row][column]\n",
    "for r in range(num_row):\n",
    "    # generate row\n",
    "    matrix.append([])\n",
    "    row = []\n",
    "    for c in range(num_col):\n",
    "        # generate column\n",
    "        # default value is 0 or unknown\n",
    "        group = 3 * int(r / 3) + int(c / 3)\n",
    "        group_lookup[group].add((r,c))\n",
    "        value = {'cord':(r,c), \n",
    "                 'value':0, \n",
    "                 'group': group, \n",
    "                 'option':set([1,2,3,4,5,6,7,8,9])}\n",
    "        matrix[-1].append(value)\n",
    "\n",
    "# Manual Data Entry \n",
    "matrix[0][5]['value']=8\n",
    "matrix[0][6]['value']=3\n",
    "matrix[1][2]['value']=2\n",
    "matrix[1][6]['value']=5\n",
    "matrix[1][7]['value']=6\n",
    "matrix[2][1]['value']=4\n",
    "matrix[2][4]['value']=6\n",
    "matrix[2][8]['value']=1\n",
    "matrix[3][2]['value']=1\n",
    "matrix[3][3]['value']=8\n",
    "matrix[3][4]['value']=9\n",
    "matrix[3][6]['value']=4\n",
    "matrix[4][0]['value']=3\n",
    "matrix[4][6]['value']=2\n",
    "matrix[5][3]['value']=5\n",
    "matrix[5][5]['value']=1\n",
    "matrix[6][0]['value']=7\n",
    "matrix[7][2]['value']=4\n",
    "matrix[7][6]['value']=1\n",
    "matrix[7][8]['value']=8\n",
    "matrix[8][3]['value']=3\n",
    "matrix[8][4]['value']=1\n",
    "matrix[8][7]['value']=2\n",
    "matrix[8][8]['value']=6"
   ]
  },
  {
   "cell_type": "markdown",
   "metadata": {},
   "source": [
    "# 2. Utility Function"
   ]
  },
  {
   "cell_type": "code",
   "execution_count": 3,
   "metadata": {
    "collapsed": false
   },
   "outputs": [],
   "source": [
    "def calc(i, j):\n",
    "    '''\n",
    "    i is the row index, j is the column indx\n",
    "    calc is going to calculate the remaining options\n",
    "    '''\n",
    "    if matrix[i][j]['value'] > 0:\n",
    "        matrix[i][j]['option'] = set()\n",
    "        return 0\n",
    "    \n",
    "    # get all distinct values in the row \n",
    "    cells_row = matrix[i]\n",
    "    blacklist_row = set()\n",
    "    for cell in cells_row:\n",
    "        blacklist_row.add(cell['value'])\n",
    "        \n",
    "    # get all distinct values in the column \n",
    "    blacklist_column = set()\n",
    "    cells_column = [row[j] for row in matrix]\n",
    "    for cell in cells_column:\n",
    "        blacklist_column.add(cell['value'])\n",
    "        \n",
    "    # get all distinct values in the group\n",
    "    blacklist_group = set()\n",
    "    cell_group = 3 * int(i / 3) + int(j / 3)\n",
    "    cords = group_lookup[cell_group]\n",
    "    for cord in cords: \n",
    "        cell = matrix[cord[0]][cord[1]]\n",
    "        blacklist_group.add(cell['value'])\n",
    "#     print blacklist_row\n",
    "#     print blacklist_column\n",
    "#     print blacklist_group\n",
    "    blacklist = blacklist_row.union(blacklist_column).union(blacklist_group)\n",
    "#     print blacklist\n",
    "    matrix[i][j]['option'] = matrix[i][j]['option'].difference(blacklist)\n",
    "\n",
    "    # if this is the only option, update\n",
    "    if len(matrix[i][j]['option']) == 1:\n",
    "#         print blacklist_row\n",
    "#         print blacklist_column\n",
    "#         print blacklist_group\n",
    "#         print blacklist\n",
    "        matrix[i][j]['value'] = int(list(matrix[i][j]['option'])[0])\n",
    "        print i, j,'update option ', int(list(matrix[i][j]['option'])[0]) \n",
    "        matrix[i][j]['option'] = set() \n",
    "        return 1\n",
    "    \n",
    "    # unique option within group\n",
    "    rest_of_group = set()\n",
    "    cords = group_lookup[cell_group]\n",
    "    for cord in cords: \n",
    "        if cord[0] == i and cord[1] == j: \n",
    "            continue\n",
    "        else:\n",
    "            rest_of_group = rest_of_group.union(matrix[cord[0]][cord[1]]['option'])\n",
    "        \n",
    "    option_unique = matrix[i][j]['option'].difference(rest_of_group) \n",
    "    if len(option_unique) == 1:\n",
    "        matrix[i][j]['value'] = int(list(option_unique)[0])\n",
    "        print i, j,'update unique group ', int(list(option_unique)[0])\n",
    "        matrix[i][j]['option'] = set()\n",
    "        return 1\n",
    "    \n",
    "    # unique option within row \n",
    "    cells_row = matrix[i]\n",
    "    rest_of_row = set()\n",
    "    for cell in cells_row:\n",
    "        cord = cell['cord']\n",
    "        if cord[0] == i and cord[1] == j: \n",
    "            continue\n",
    "        else:\n",
    "            rest_of_row = rest_of_row.union(matrix[cord[0]][cord[1]]['option'])\n",
    "    option_unique = matrix[i][j]['option'].difference(rest_of_row) \n",
    "    if len(option_unique) == 1:\n",
    "        matrix[i][j]['value'] = int(list(option_unique)[0])\n",
    "        print i, j,'update unique row', int(list(option_unique)[0])\n",
    "        matrix[i][j]['option'] = set()\n",
    "        return 1    \n",
    "        \n",
    "    # unique optio within column  \n",
    "    cells_column = [row[j] for row in matrix]\n",
    "    rest_of_column = set()\n",
    "    for cell in cells_column:\n",
    "        cord = cell['cord']\n",
    "        if cord[0] == i and cord[1] == j: \n",
    "            continue\n",
    "        else:\n",
    "            rest_of_column = rest_of_column.union(matrix[cord[0]][cord[1]]['option'])  \n",
    "    option_unique = matrix[i][j]['option'].difference(rest_of_column) \n",
    "    if len(option_unique) == 1:\n",
    "        matrix[i][j]['value'] = int(list(option_unique)[0])\n",
    "        print i, j,'update unique column', int(list(option_unique)[0])\n",
    "        matrix[i][j]['option'] = set()\n",
    "        return 1\n",
    "\n",
    "    return 0"
   ]
  },
  {
   "cell_type": "markdown",
   "metadata": {},
   "source": [
    "# 3. Execution \n",
    "you need to execute the cell below loop by loop till no output is generated"
   ]
  },
  {
   "cell_type": "code",
   "execution_count": 7,
   "metadata": {
    "collapsed": false
   },
   "outputs": [],
   "source": [
    "# to avoid endless calculation, it is a good idea to execute your code manually first\n",
    "for r in matrix:\n",
    "    for cell in r:\n",
    "        x, y = cell['cord']\n",
    "        calc(x, y)"
   ]
  },
  {
   "cell_type": "markdown",
   "metadata": {},
   "source": [
    "# 4. Review "
   ]
  },
  {
   "cell_type": "code",
   "execution_count": 8,
   "metadata": {
    "collapsed": false
   },
   "outputs": [
    {
     "name": "stdout",
     "output_type": "stream",
     "text": [
      "(0, 0) set([1, 5, 6, 9])\n",
      "(0, 1) set([9, 5, 6, 7])\n",
      "(0, 2) set([9, 5, 6, 7])\n",
      "(0, 3) set([1, 4, 9, 7])\n",
      "(0, 4) set([4, 5, 7])\n",
      "(0, 7) set([9, 4, 7])\n",
      "(1, 0) set([8, 1, 9])\n",
      "(1, 1) set([8, 9, 3, 7])\n",
      "(1, 3) set([1, 4, 9, 7])\n",
      "(1, 4) set([3, 4, 7])\n",
      "(1, 5) set([9, 3, 7])\n",
      "(1, 8) set([9, 4, 7])\n",
      "(2, 0) set([9, 5])\n",
      "(2, 2) set([9, 3, 5, 7])\n",
      "(2, 3) set([9, 2, 7])\n",
      "(2, 5) set([9, 2, 3, 5, 7])\n",
      "(2, 7) set([9, 7])\n",
      "(3, 0) set([2, 5, 6])\n",
      "(3, 1) set([2, 5, 6, 7])\n",
      "(3, 5) set([2, 3, 6, 7])\n",
      "(3, 7) set([3, 5, 7])\n",
      "(3, 8) set([3, 5, 7])\n",
      "(4, 1) set([8, 9, 5, 6, 7])\n",
      "(4, 2) set([8, 9, 5, 6, 7])\n",
      "(4, 3) set([4, 6, 7])\n",
      "(4, 4) set([4, 7])\n",
      "(4, 5) set([6, 7])\n",
      "(4, 8) set([9, 5, 7])\n",
      "(5, 1) set([9, 2, 7])\n",
      "(5, 2) set([9, 7])\n",
      "(5, 4) set([2, 3, 7])\n",
      "(5, 8) set([9, 3, 7])\n",
      "(6, 2) set([3, 5, 6])\n",
      "(6, 3) set([2, 6])\n",
      "(6, 5) set([2, 5, 6])\n",
      "(6, 7) set([3, 4, 5])\n",
      "(6, 8) set([3, 4, 5])\n",
      "(7, 0) set([9, 2, 5, 6])\n",
      "(7, 1) set([9, 2, 3, 5, 6])\n",
      "(7, 3) set([9, 2, 6, 7])\n",
      "(7, 4) set([2, 5, 7])\n",
      "(7, 5) set([9, 2, 5, 6, 7])\n",
      "(7, 7) set([3, 5])\n",
      "(8, 0) set([8, 9, 5])\n",
      "(8, 1) set([8, 9, 5])\n",
      "(8, 2) set([8, 9, 5])\n"
     ]
    }
   ],
   "source": [
    "for r in matrix:\n",
    "    for cell in r:\n",
    "        if cell['value'] == 0:\n",
    "            print cell['cord'],  cell['option']"
   ]
  },
  {
   "cell_type": "code",
   "execution_count": null,
   "metadata": {
    "collapsed": true
   },
   "outputs": [],
   "source": []
  }
 ],
 "metadata": {
  "anaconda-cloud": {},
  "kernelspec": {
   "display_name": "Python [Root]",
   "language": "python",
   "name": "Python [Root]"
  },
  "language_info": {
   "codemirror_mode": {
    "name": "ipython",
    "version": 2
   },
   "file_extension": ".py",
   "mimetype": "text/x-python",
   "name": "python",
   "nbconvert_exporter": "python",
   "pygments_lexer": "ipython2",
   "version": "2.7.12"
  }
 },
 "nbformat": 4,
 "nbformat_minor": 0
}
